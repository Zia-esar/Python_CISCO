{
 "cells": [
  {
   "cell_type": "code",
   "execution_count": 7,
   "metadata": {},
   "outputs": [
    {
     "name": "stdout",
     "output_type": "stream",
     "text": [
      "===========>>> task 04 <<<===========\n",
      "enter string : zia\n",
      "not a Palindrome\n"
     ]
    }
   ],
   "source": [
    "print(\"===========>>> task 04 <<<===========\")\n",
    "\n",
    "def isPalindrome(string):\n",
    "    left_pos = 0\n",
    "    right_pos = len(string) - 1\n",
    "    \n",
    "    while right_pos >= left_pos:\n",
    "        if not string[left_pos] == string[right_pos]:\n",
    "            return \"not a Palindrome\"\n",
    "        left_pos += 1\n",
    "        right_pos -= 1\n",
    "    return \"Palindrome\"\n",
    "\n",
    "str = input(\"enter string : \")\n",
    "print(isPalindrome(str)) \n"
   ]
  },
  {
   "cell_type": "code",
   "execution_count": 1,
   "metadata": {},
   "outputs": [
    {
     "name": "stdout",
     "output_type": "stream",
     "text": [
      "===========>>> task 02 <<<===========\n",
      "Enter String: Zia Ullah\n",
      "No. of Upper case characters : 2,No. of Lower case characters : 6\n",
      "None\n"
     ]
    }
   ],
   "source": [
    "print(\"===========>>> task 02 <<<===========\")\n",
    "my_string = input('Enter String: ')\n",
    "def up_low(my_string):      \n",
    "    u = sum(1 for i in my_string if i.isupper())\n",
    "    l = sum(1 for i in my_string if i.islower())\n",
    "    print( \"No. of Upper case characters : %s,No. of Lower case characters : %s\" % (u,l))\n",
    "\n",
    "print(up_low(my_string))"
   ]
  },
  {
   "cell_type": "code",
   "execution_count": 2,
   "metadata": {},
   "outputs": [
    {
     "name": "stdout",
     "output_type": "stream",
     "text": [
      "===========>>> task 03 <<<===========\n",
      "[2, 4, 6, 8, 10]\n"
     ]
    }
   ],
   "source": [
    "print(\"===========>>> task 03 <<<===========\")\n",
    "lst = [2, 4, 5, 6, 8, 9, 10, 11]\n",
    "\n",
    "def p_even(lst):\n",
    "    return [x for x in lst if x % 2 == 0]\n",
    "\n",
    "even_numbers = p_even(lst)\n",
    "\n",
    "print(even_numbers)"
   ]
  },
  {
   "cell_type": "code",
   "execution_count": 8,
   "metadata": {},
   "outputs": [
    {
     "name": "stdout",
     "output_type": "stream",
     "text": [
      "===========>>> task 06 <<<===========\n",
      "fruits\n",
      "vegetables\n",
      "mutton\n",
      "chicken\n",
      "soaf\n",
      "sugar\n",
      "shampo\n"
     ]
    }
   ],
   "source": [
    "print(\"===========>>> task 06 <<<===========\")\n",
    "\n",
    "def shopping_list(*items):\n",
    "    for item in items:\n",
    "        print(item)\n",
    "        \n",
    "shopping_list(\"fruits\", \"vegetables\", \"mutton\", \"chicken\", \"soaf\", \"sugar\", \"shampo\")"
   ]
  },
  {
   "cell_type": "code",
   "execution_count": 3,
   "metadata": {},
   "outputs": [
    {
     "name": "stdout",
     "output_type": "stream",
     "text": [
      "===========>>> task 05 <<<===========\n",
      "Enter your no: 9\n",
      "Not a Prime.\n"
     ]
    }
   ],
   "source": [
    "print(\"===========>>> task 05 <<<===========\")\n",
    "a = int(input(\"Enter your no: \"))\n",
    "def is_prime(a):\n",
    "    return all(a % i for i in range(2, a))\n",
    "##print(is_prime(a))\n",
    "if is_prime(a) == True:\n",
    "    print(\"Prime No.\")\n",
    "else:\n",
    "    print(\"Not a Prime.\")"
   ]
  },
  {
   "cell_type": "code",
   "execution_count": 4,
   "metadata": {},
   "outputs": [
    {
     "name": "stdout",
     "output_type": "stream",
     "text": [
      "===========>>> task 01 <<<===========\n",
      "Enter No: 5\n",
      "120\n"
     ]
    }
   ],
   "source": [
    "print(\"===========>>> task 01 <<<===========\")\n",
    "n = int(input(\"Enter No: \"))\n",
    "def fact(n):\n",
    "    result = 1\n",
    "    for i in range(2, n + 1):\n",
    "        result *= i\n",
    "    return result\n",
    "\n",
    "my_fact = fact(n)\n",
    "print(my_fact)"
   ]
  },
  {
   "cell_type": "code",
   "execution_count": null,
   "metadata": {},
   "outputs": [],
   "source": []
  }
 ],
 "metadata": {
  "kernelspec": {
   "display_name": "Python 3",
   "language": "python",
   "name": "python3"
  },
  "language_info": {
   "codemirror_mode": {
    "name": "ipython",
    "version": 3
   },
   "file_extension": ".py",
   "mimetype": "text/x-python",
   "name": "python",
   "nbconvert_exporter": "python",
   "pygments_lexer": "ipython3",
   "version": "3.7.4"
  }
 },
 "nbformat": 4,
 "nbformat_minor": 2
}
