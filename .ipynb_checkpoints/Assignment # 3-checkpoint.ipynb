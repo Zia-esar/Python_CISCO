{
 "cells": [
  {
   "cell_type": "code",
   "execution_count": 6,
   "metadata": {},
   "outputs": [
    {
     "name": "stdout",
     "output_type": "stream",
     "text": [
      "## task 1 ##\n",
      "Enter First Number : 4\n",
      "Enter Second Number: 5\n",
      "Choose Operation in one of the following;\n",
      "                  ADDITION : +\n",
      "                  SUBTRACTION : -\n",
      "                  MULTIPLICATION : *\n",
      "                  DIVISION : /\n",
      "                  POWER : p\n",
      "Choose your operation : +\n",
      "9\n"
     ]
    }
   ],
   "source": [
    "print(\"## task 1 ##\")\n",
    "\n",
    "a = int(input(\"Enter First Number : \"))\n",
    "b = int(input(\"Enter Second Number: \"))\n",
    "print('''Choose Operation in one of the following;\n",
    "                  ADDITION : +\n",
    "                  SUBTRACTION : -\n",
    "                  MULTIPLICATION : *\n",
    "                  DIVISION : /\n",
    "                  POWER : p''')\n",
    "operation = input(\"Choose your operation : \")      \n",
    "\n",
    "if operation == '+':\n",
    "    print(a + b)\n",
    "elif operation == '-':\n",
    "    print(a - b)\n",
    "elif operation == '*':\n",
    "    print(a * b)\n",
    "elif operation == '/':\n",
    "    print(a / b)\n",
    "elif operation == 'p':\n",
    "    print(a ** b)\n",
    "else:\n",
    "    print(\"SOMETHING IS WRONG.\")"
   ]
  },
  {
   "cell_type": "code",
   "execution_count": 7,
   "metadata": {},
   "outputs": [
    {
     "name": "stdout",
     "output_type": "stream",
     "text": [
      "#### task 2 #####\n",
      "15\n",
      "3\n"
     ]
    }
   ],
   "source": [
    "print(\"#### task 2 #####\")\n",
    "\n",
    "\n",
    "my_list = [\"Asad\", \"Zia\", 'A', 'z', 15, 2.5, 3]\n",
    "for numeric_value in my_list:\n",
    "    if type(numeric_value) == int:\n",
    "        print(numeric_value)"
   ]
  },
  {
   "cell_type": "code",
   "execution_count": 8,
   "metadata": {},
   "outputs": [
    {
     "name": "stdout",
     "output_type": "stream",
     "text": [
      "##### task 3 #####\n",
      "Enter new Key : ali\n",
      "Enter new value : 03124567098\n",
      "Umar 0300-124567\n",
      "Zia 0313-1234567\n",
      "Faiz 0345-1234567\n",
      "Zain 0333-1234567\n",
      "ali 03124567098\n"
     ]
    }
   ],
   "source": [
    "print(\"##### task 3 #####\")\n",
    "phonebook = {\n",
    "    \"Umar\" : \"0300-124567\",\n",
    "    \"Zia\" : \"0313-1234567\",\n",
    "    \"Faiz\" : \"0345-1234567\",\n",
    "    \"Zain\" : \"0333-1234567\"\n",
    "}\n",
    "\n",
    "new_key = input(\"Enter new Key : \")\n",
    "new_value = input(\"Enter new value : \")\n",
    "\n",
    "phonebook[new_key] = new_value\n",
    "\n",
    "for keys, values in phonebook.items():\n",
    "    print(keys, values)"
   ]
  },
  {
   "cell_type": "code",
   "execution_count": 9,
   "metadata": {},
   "outputs": [
    {
     "name": "stdout",
     "output_type": "stream",
     "text": [
      "###### task 4 ######\n",
      "90\n",
      "90\n"
     ]
    }
   ],
   "source": [
    "print(\"###### task 4 ######\")\n",
    "dic = {\n",
    "    1 : 10, \n",
    "    2 : 12, \n",
    "    3 : 14, \n",
    "    4 : 16, \n",
    "    5 : 18, \n",
    "    6 : 20\n",
    "}\n",
    "print(sum(dic.values()))\n",
    "\n",
    "## Using for loop\n",
    "sum_total = sum(dic[item] for item in dic)\n",
    "print(sum_total)"
   ]
  },
  {
   "cell_type": "code",
   "execution_count": 11,
   "metadata": {},
   "outputs": [
    {
     "name": "stdout",
     "output_type": "stream",
     "text": [
      "###### task 5 ######\n",
      "Faiz REPEATED\n",
      "Faiz REPEATED\n"
     ]
    }
   ],
   "source": [
    "print(\"###### task 5 ######\")\n",
    "\n",
    "names_list = [\"Asad\", \"Faiz\", \"Zia\", \"Faiz\", \"Syed\"]\n",
    "\n",
    "for values in names_list:\n",
    "    if names_list.count(values) > 1:\n",
    "        print(values + \" \" + \"REPEATED\")"
   ]
  },
  {
   "cell_type": "code",
   "execution_count": 13,
   "metadata": {},
   "outputs": [
    {
     "name": "stdout",
     "output_type": "stream",
     "text": [
      "##### task 6 ######\n",
      "Enter new key to phonebook : wahaj\n",
      "Already Exist.\n",
      "Asad\n",
      "Already Exist.\n",
      "Zia\n",
      "Already Exist.\n",
      "Ali\n",
      "Already Exist.\n",
      "Umar\n"
     ]
    }
   ],
   "source": [
    "print(\"##### task 6 ######\")\n",
    "\n",
    "phonebook = {\n",
    "    \"Asad\" : \"0300-124567\",\n",
    "    \"Zia\" : \"0313-1234567\",\n",
    "    \"Ali\" : \"0345-1234567\",\n",
    "    \"Umar\" : \"0333-1234567\"\n",
    "}\n",
    "new_key = input(\"Enter new key to phonebook : \")\n",
    "##new_value = input(\"Enter new value to phonebook : \")\n",
    "for keys in phonebook.keys():\n",
    "    if phonebook.keys :\n",
    "        print(\"Already Exist.\")\n",
    "    else:\n",
    "            print(\"Not Found.\")\n",
    "    print(keys)"
   ]
  },
  {
   "cell_type": "code",
   "execution_count": null,
   "metadata": {},
   "outputs": [],
   "source": []
  }
 ],
 "metadata": {
  "kernelspec": {
   "display_name": "Python 3",
   "language": "python",
   "name": "python3"
  },
  "language_info": {
   "codemirror_mode": {
    "name": "ipython",
    "version": 3
   },
   "file_extension": ".py",
   "mimetype": "text/x-python",
   "name": "python",
   "nbconvert_exporter": "python",
   "pygments_lexer": "ipython3",
   "version": "3.7.4"
  }
 },
 "nbformat": 4,
 "nbformat_minor": 2
}
