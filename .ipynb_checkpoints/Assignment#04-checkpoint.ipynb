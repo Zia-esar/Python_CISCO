{
 "cells": [
  {
   "cell_type": "code",
   "execution_count": 19,
   "metadata": {},
   "outputs": [
    {
     "name": "stdout",
     "output_type": "stream",
     "text": [
      "first_name : Zia\n",
      "last_name : Ur Rehman\n",
      "age : 22\n",
      "city : Karachi\n",
      "gendr : male\n"
     ]
    }
   ],
   "source": [
    "dict = {\"first_name\": \"Zia\", \"last_name\": \"Ur Rehman\", \"age\": \"22\", \"city\": \"Karachi\", \"gendr\": \"male\"}\n",
    "for key,value in dict.items():\n",
    "    print(key + \" \"+\":\"+ \" \" + value)"
   ]
  },
  {
   "cell_type": "code",
   "execution_count": 8,
   "metadata": {},
   "outputs": [
    {
     "name": "stdout",
     "output_type": "stream",
     "text": [
      "first_name : Zia\n",
      "last_name : Ur Rehman\n",
      "age : 22\n",
      "city : Karachi\n",
      "qualification : Undergraduation\n"
     ]
    }
   ],
   "source": [
    "dict[\"qualification\"] = \"Undergraduation\"\n",
    "for key,value in dict.items():\n",
    "    print(key + \" \"+\":\"+ \" \" + value)\n",
    "    "
   ]
  },
  {
   "cell_type": "code",
   "execution_count": 9,
   "metadata": {},
   "outputs": [
    {
     "name": "stdout",
     "output_type": "stream",
     "text": [
      "first_name : Zia\n",
      "last_name : Ur Rehman\n",
      "age : 22\n",
      "city : Karachi\n",
      "qualification : Masters\n"
     ]
    }
   ],
   "source": [
    "dict[\"qualification\"] = \"Masters\"\n",
    "for key,value in dict.items():\n",
    "    print(key + \" \"+\":\"+ \" \" + value)"
   ]
  },
  {
   "cell_type": "code",
   "execution_count": 10,
   "metadata": {},
   "outputs": [
    {
     "name": "stdout",
     "output_type": "stream",
     "text": [
      "first_name : Zia\n",
      "last_name : Ur Rehman\n",
      "age : 22\n",
      "city : Karachi\n"
     ]
    }
   ],
   "source": [
    "del dict[\"qualification\"]\n",
    "for key,value in dict.items():\n",
    "    print(key + \" \"+\":\"+ \" \" + value)"
   ]
  },
  {
   "cell_type": "code",
   "execution_count": 21,
   "metadata": {},
   "outputs": [
    {
     "name": "stdout",
     "output_type": "stream",
     "text": [
      "=============>>> task 02 <<<=============\n",
      "Bangkok {'Country': 'Thailand', 'Population': '8.281 Million', 'Known as': 'Best food in the world'}\n",
      "Singapore {'country': 'Malaysia', 'Population': '5.612 Million', 'Known as': 'its clean streets and its modern and tall buildings'}\n",
      "Paris {'Country': 'France', 'Population': '2.141 Million', 'Known as': 'Eiffel Tower'}\n"
     ]
    }
   ],
   "source": [
    "print(\"=============>>> task 02 <<<=============\")\n",
    "cities_info = {\"Bangkok\": {\n",
    "    \"Country\": \"Thailand\",\n",
    "    \"Population\": \"8.281 Million\",\n",
    "    \"Known as\" : \"Best food in the world\",\n",
    "}, \"Singapore\": {\n",
    "    \"country\": \"Malaysia\",\n",
    "    \"Population\": \"5.612 Million\",\n",
    "    \"Known as\": \"its clean streets and its modern and tall buildings\",\n",
    "},\"Paris\" : {\n",
    "    \"Country\": \"France\",\n",
    "    \"Population\": \"2.141 Million\",\n",
    "    \"Known as\": \"Eiffel Tower\",\n",
    "},}\n",
    "for cities, values in cities_info.items():\n",
    "    print(cities, values)\n"
   ]
  },
  {
   "cell_type": "code",
   "execution_count": 20,
   "metadata": {},
   "outputs": [
    {
     "name": "stdout",
     "output_type": "stream",
     "text": [
      "=============>>> task 02 <<<=============\n",
      "enter your age : 5\n",
      "please pay 10$\n"
     ]
    }
   ],
   "source": [
    "print(\"=============>>> task 03 <<<=============\")\n",
    "age = int(input(\"enter your age : \"))\n",
    "if age <= 3 :\n",
    "    print(\"your ticket is free\")\n",
    "elif age > 3 and age <= 12:\n",
    "    print(\"please pay 10$\")\n",
    "elif age > 12 :\n",
    "    print(\"please pay 15$\")\n",
    "else :\n",
    "    print(\"invalid input\")"
   ]
  },
  {
   "cell_type": "code",
   "execution_count": 22,
   "metadata": {},
   "outputs": [
    {
     "name": "stdout",
     "output_type": "stream",
     "text": [
      "=============>>> task 04 <<<=============\n",
      "one of my favourite book is  'tough time never last ' \n"
     ]
    }
   ],
   "source": [
    "print(\"=============>>> task 04 <<<=============\")\n",
    "\n",
    "def favourite_book(title):\n",
    "    print(\"one of my favourite book is \"+ title )\n",
    "\n",
    "favourite_book(\" 'tough time never last ' \")"
   ]
  },
  {
   "cell_type": "code",
   "execution_count": 1,
   "metadata": {},
   "outputs": [
    {
     "name": "stdout",
     "output_type": "stream",
     "text": [
      "=============>>> task 05 <<<=============\n",
      "guess a number : 5\n",
      "try a smaller number\n",
      "guess a number : 2\n",
      "try a smaller number\n",
      "guess a number : 1\n",
      "try a smaller number\n",
      "the number is : 0\n",
      "you lost ! better luck net time\n"
     ]
    }
   ],
   "source": [
    "print(\"=============>>> task 05 <<<=============\")\n",
    "\n",
    "import random\n",
    "random_number = random.randint(0,29)\n",
    "for i in range(3):\n",
    "    guess = int(input(\"guess a number : \"))\n",
    "    if guess == random_number:\n",
    "        print(\"You guess the correct number\")\n",
    "        break\n",
    "    elif guess > random_number and guess <= 29:\n",
    "        print(\"try a smaller number\")\n",
    "    elif guess < random_number and guess >= 0:\n",
    "        print(\"try a bigger number\")\n",
    "    else: \n",
    "        print(\"invalid number\")\n",
    "        \n",
    "print(\"the number is : \" + str(random_number))\n",
    "print(\"you lost ! better luck net time\")       "
   ]
  },
  {
   "cell_type": "code",
   "execution_count": null,
   "metadata": {},
   "outputs": [],
   "source": []
  }
 ],
 "metadata": {
  "kernelspec": {
   "display_name": "Python 3",
   "language": "python",
   "name": "python3"
  },
  "language_info": {
   "codemirror_mode": {
    "name": "ipython",
    "version": 3
   },
   "file_extension": ".py",
   "mimetype": "text/x-python",
   "name": "python",
   "nbconvert_exporter": "python",
   "pygments_lexer": "ipython3",
   "version": "3.7.4"
  }
 },
 "nbformat": 4,
 "nbformat_minor": 2
}
