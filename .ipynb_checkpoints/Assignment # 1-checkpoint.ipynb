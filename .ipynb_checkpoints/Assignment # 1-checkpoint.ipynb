{
 "cells": [
  {
   "cell_type": "code",
   "execution_count": 1,
   "metadata": {},
   "outputs": [
    {
     "name": "stdout",
     "output_type": "stream",
     "text": [
      "******====== 01 ======******\n",
      "twinkle, twinkle, little star,\n",
      "        how i wonder what you are!\n",
      "              up above the world so high,\n",
      "              Like a diamond in the sky.\n",
      "twinkle ,twinkle ,little star,\n",
      "        how i wonder what you are\n"
     ]
    }
   ],
   "source": [
    "print(\"******====== 01 ======******\")\n",
    "print(\"\"\"twinkle, twinkle, little star,\n",
    "        how i wonder what you are!\n",
    "              up above the world so high,\n",
    "              Like a diamond in the sky.\n",
    "twinkle ,twinkle ,little star,\n",
    "        how i wonder what you are\"\"\")"
   ]
  },
  {
   "cell_type": "code",
   "execution_count": 3,
   "metadata": {},
   "outputs": [
    {
     "name": "stdout",
     "output_type": "stream",
     "text": [
      "******====== 02 ======******\n",
      "Python version\n",
      "3.7.4 (default, Aug 13 2019, 20:35:49) \n",
      "[GCC 7.3.0]\n",
      "now = 2019-11-28 20:13:54.051440\n",
      "date and time =  28/11/2019 20:13:54\n"
     ]
    }
   ],
   "source": [
    "import sys\n",
    "\n",
    "from datetime import datetime\n",
    "\n",
    "print(\"******====== 02 ======******\")\n",
    "\n",
    "print(\"Python version\")\n",
    "print(sys.version)\n",
    "\n",
    "now = datetime.now()\n",
    "\n",
    "print(\"now =\", now)\n",
    "dt_string = now.strftime(\"%d/%m/%Y %H:%M:%S\")\n",
    "print(\"date and time = \", dt_string)\n"
   ]
  },
  {
   "cell_type": "code",
   "execution_count": 4,
   "metadata": {},
   "outputs": [
    {
     "name": "stdout",
     "output_type": "stream",
     "text": [
      "******====== 03 ======******\n",
      "input radius : 4\n",
      "area of the circle for the given radius is : 50.272\n"
     ]
    }
   ],
   "source": [
    "print(\"******====== 03 ======******\")\n",
    "\n",
    "rad = input(\"input radius : \")\n",
    "area = 3.142 * float(rad) * float(rad)\n",
    "print(\"area of the circle for the given radius is : \" + str(area))\n"
   ]
  },
  {
   "cell_type": "code",
   "execution_count": 5,
   "metadata": {},
   "outputs": [
    {
     "name": "stdout",
     "output_type": "stream",
     "text": [
      "******====== 04 ======*******\n",
      "enter first name: zia \n",
      "enter last name: ur rehman\n",
      "zia  ur rehman\n",
      "namher ru  aiz\n"
     ]
    }
   ],
   "source": [
    "print(\"******====== 04 ======*******\")\n",
    "\n",
    "\n",
    "first_name = input(\"enter first name: \")\n",
    "last_name = input(\"enter last name: \")\n",
    "full_name = first_name + \" \" + last_name\n",
    "print(full_name)\n",
    "reversed = ''.join(reversed(full_name))\n",
    "print(reversed)"
   ]
  },
  {
   "cell_type": "code",
   "execution_count": 7,
   "metadata": {},
   "outputs": [
    {
     "name": "stdout",
     "output_type": "stream",
     "text": [
      "*******======= 05 =======*******\n",
      "first number : 5\n",
      "second number : 4\n",
      "sum = 9\n"
     ]
    }
   ],
   "source": [
    "print(\"*******======= 05 =======*******\")\n",
    "\n",
    "a = int(input(\"first number : \"))\n",
    "b = int(input(\"second number : \"))\n",
    "print(\"sum = \" + str(a + b))"
   ]
  },
  {
   "cell_type": "code",
   "execution_count": null,
   "metadata": {},
   "outputs": [],
   "source": []
  }
 ],
 "metadata": {
  "kernelspec": {
   "display_name": "Python 3",
   "language": "python",
   "name": "python3"
  },
  "language_info": {
   "codemirror_mode": {
    "name": "ipython",
    "version": 3
   },
   "file_extension": ".py",
   "mimetype": "text/x-python",
   "name": "python",
   "nbconvert_exporter": "python",
   "pygments_lexer": "ipython3",
   "version": "3.7.4"
  }
 },
 "nbformat": 4,
 "nbformat_minor": 2
}
